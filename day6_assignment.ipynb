{
  "nbformat": 4,
  "nbformat_minor": 0,
  "metadata": {
    "colab": {
      "private_outputs": true,
      "provenance": []
    },
    "kernelspec": {
      "name": "python3",
      "display_name": "Python 3"
    },
    "language_info": {
      "name": "python"
    }
  },
  "cells": [
    {
      "cell_type": "code",
      "execution_count": null,
      "metadata": {
        "id": "Vii5CyQCZ5KD"
      },
      "outputs": [],
      "source": [
        "list1=[\"2020-10-12\",\"2023-10-13\",\"2023-10-08\"]"
      ]
    },
    {
      "cell_type": "code",
      "source": [
        "for i in list1:\n",
        "    print(i[-2:])"
      ],
      "metadata": {
        "id": "00w5P1GkbN_U"
      },
      "execution_count": null,
      "outputs": []
    },
    {
      "cell_type": "code",
      "source": [
        "for i in list1:\n",
        "    print(i.split(\"-\")[-1])"
      ],
      "metadata": {
        "id": "YMmXNUYabiua"
      },
      "execution_count": null,
      "outputs": []
    },
    {
      "cell_type": "code",
      "source": [
        "b=[]\n",
        "for i in list1:\n",
        "    b.append(i.split(\"-\")[-1])\n",
        "b\n"
      ],
      "metadata": {
        "id": "iCon-2KFcJSl"
      },
      "execution_count": null,
      "outputs": []
    },
    {
      "cell_type": "code",
      "source": [
        "l1=[1,2,3]\n",
        "l2=[\"a\",\"b\",\"c\"]\n",
        "list(zip(l1,l2))"
      ],
      "metadata": {
        "id": "lHDpr6QOcZfO"
      },
      "execution_count": null,
      "outputs": []
    },
    {
      "cell_type": "code",
      "source": [
        "dict(list(zip(l1,l2)))"
      ],
      "metadata": {
        "id": "w7l0QdlgdCNv"
      },
      "execution_count": null,
      "outputs": []
    },
    {
      "cell_type": "code",
      "source": [
        "a=int(input(\"enter the number:\"))\n",
        "b=100\n",
        "c=b/a\n",
        "print(c)"
      ],
      "metadata": {
        "id": "zOCSSDxsc20x"
      },
      "execution_count": null,
      "outputs": []
    },
    {
      "cell_type": "markdown",
      "source": [
        "#exceptional handling\n",
        "1. try block\n",
        "2. except\n",
        "3. else\n",
        "4. finally block"
      ],
      "metadata": {
        "id": "Btd9n-L7enPC"
      }
    },
    {
      "cell_type": "code",
      "source": [
        "try:\n",
        "    a=int(input(\"enter the number:\"))\n",
        "    b=100\n",
        "    c=b/a\n",
        "    print(c)\n",
        "except:\n",
        "    print(\"enter proper value greater zero\")"
      ],
      "metadata": {
        "id": "uugwl7UHeHHf"
      },
      "execution_count": null,
      "outputs": []
    },
    {
      "cell_type": "code",
      "source": [
        "try:\n",
        "    a=int(input(\"enter the number:\"))\n",
        "    b=100\n",
        "    c=b/a\n",
        "    print(c)\n",
        "except ValueError:\n",
        "    print(\"pls give int value\")\n",
        "except ZeroDivisionError:\n",
        "    print(\"enter proper value greater zero\")\n",
        "print(\"done\")"
      ],
      "metadata": {
        "id": "qxzDn5ZmfINW"
      },
      "execution_count": null,
      "outputs": []
    },
    {
      "cell_type": "code",
      "source": [
        "try:\n",
        "    a=int(input(\"enter the number:\"))\n",
        "    b=100\n",
        "    c=b/a\n",
        "    print(c)\n",
        "except Exception as e:\n",
        "    print(e)\n",
        "print(\"done\")"
      ],
      "metadata": {
        "id": "pIIOt40lfxso"
      },
      "execution_count": null,
      "outputs": []
    },
    {
      "cell_type": "code",
      "source": [
        "try:\n",
        "    a=int(input(\"enter the number: \"))\n",
        "    b=100\n",
        "    c=b/a\n",
        "    print(c)\n",
        "except Exception as e:\n",
        "    print(e)\n",
        "else:\n",
        "    print(\"no error\")\n",
        "print(\"done\")"
      ],
      "metadata": {
        "id": "miJU6YP2gRc-"
      },
      "execution_count": null,
      "outputs": []
    },
    {
      "cell_type": "code",
      "source": [
        "try:\n",
        "    a=int(input(\"enter the number: \"))\n",
        "    b=100\n",
        "    c=b/a\n",
        "    print(c)\n",
        "except Exception as e:\n",
        "    print(e)\n",
        "else:\n",
        "    print(\"no error\")\n",
        "finally:\n",
        "    print(\"successfully finished\")#--------------the boss"
      ],
      "metadata": {
        "id": "XZn5eZe5g9fJ"
      },
      "execution_count": null,
      "outputs": []
    },
    {
      "cell_type": "code",
      "source": [
        "try:\n",
        "    a=int(input(\"enter the number: \"))\n",
        "    b=100\n",
        "    c=b/a\n",
        "    print(c)\n",
        "except Exception as e:\n",
        "    print(e)\n",
        "finally:\n",
        "    print(\"successfully finished\")"
      ],
      "metadata": {
        "id": "-uy8mDsOhot2"
      },
      "execution_count": null,
      "outputs": []
    },
    {
      "cell_type": "markdown",
      "source": [
        "int, bool, float, str, list, tuple, range, dict, complex, set, frozenset"
      ],
      "metadata": {
        "id": "eSjdaMGXiTm5"
      }
    },
    {
      "cell_type": "code",
      "source": [
        "a=20"
      ],
      "metadata": {
        "id": "oEGEubMFih1Q"
      },
      "execution_count": null,
      "outputs": []
    },
    {
      "cell_type": "code",
      "source": [
        "mutable and immutable\n",
        "list        tuple, int, str, bool, float, complex, frozenset\n",
        "set\n",
        "dict\n"
      ],
      "metadata": {
        "id": "g4schOPGi1vj"
      },
      "execution_count": null,
      "outputs": []
    },
    {
      "cell_type": "code",
      "source": [
        "#set unordered, unchangeable, unindex, dot not allow duplicates values\n",
        "#set items or elements are any data types"
      ],
      "metadata": {
        "id": "bA_K2oULjauJ"
      },
      "execution_count": null,
      "outputs": []
    },
    {
      "cell_type": "code",
      "source": [
        "1.add\n",
        "2.clear\n",
        "3. copy\n",
        "4. difference\n"
      ],
      "metadata": {
        "id": "-qVGRSHhubWM"
      },
      "execution_count": null,
      "outputs": []
    },
    {
      "cell_type": "code",
      "source": [
        "#creating empty use below step\n",
        "set1={()}"
      ],
      "metadata": {
        "id": "1-9xBTL2jrmQ"
      },
      "execution_count": null,
      "outputs": []
    },
    {
      "cell_type": "code",
      "source": [
        "type(set1)"
      ],
      "metadata": {
        "id": "-zayTk-njxD-"
      },
      "execution_count": null,
      "outputs": []
    },
    {
      "cell_type": "code",
      "source": [
        "set2={1,2,3,4,5,6,6,6}"
      ],
      "metadata": {
        "id": "2Tq6DVg5jybj"
      },
      "execution_count": null,
      "outputs": []
    },
    {
      "cell_type": "code",
      "source": [
        "set2"
      ],
      "metadata": {
        "id": "JGHIX3AMkBTa"
      },
      "execution_count": null,
      "outputs": []
    },
    {
      "cell_type": "code",
      "source": [
        "set3={1,2,3,4,5,6,6,7,True}"
      ],
      "metadata": {
        "id": "MQv9kK4BkE72"
      },
      "execution_count": null,
      "outputs": []
    },
    {
      "cell_type": "code",
      "source": [
        "set3"
      ],
      "metadata": {
        "id": "1FXoEIpmkcdP"
      },
      "execution_count": null,
      "outputs": []
    },
    {
      "cell_type": "code",
      "source": [
        "set4={1,2,3,4,5,\"t\",1.0,6,True,1+2j}"
      ],
      "metadata": {
        "id": "bTMQBCWWkdOl"
      },
      "execution_count": null,
      "outputs": []
    },
    {
      "cell_type": "code",
      "source": [
        "set4."
      ],
      "metadata": {
        "id": "MuPRaE7Lk7KX"
      },
      "execution_count": null,
      "outputs": []
    },
    {
      "cell_type": "code",
      "source": [
        "set4.add(\"h\")"
      ],
      "metadata": {
        "id": "DRUS7JONk8N3"
      },
      "execution_count": null,
      "outputs": []
    },
    {
      "cell_type": "code",
      "source": [
        "set4"
      ],
      "metadata": {
        "id": "iK6eNtfHlU3P"
      },
      "execution_count": null,
      "outputs": []
    },
    {
      "cell_type": "code",
      "source": [
        "set4.clear()"
      ],
      "metadata": {
        "id": "W071g66vlg6f"
      },
      "execution_count": null,
      "outputs": []
    },
    {
      "cell_type": "code",
      "source": [
        "set4."
      ],
      "metadata": {
        "id": "loBeE95TmD80"
      },
      "execution_count": null,
      "outputs": []
    },
    {
      "cell_type": "code",
      "source": [
        "set5=set4.copy()"
      ],
      "metadata": {
        "id": "lamGFbGWmE7V"
      },
      "execution_count": null,
      "outputs": []
    },
    {
      "cell_type": "code",
      "source": [
        "set5"
      ],
      "metadata": {
        "id": "gNgGEMipmXwZ"
      },
      "execution_count": null,
      "outputs": []
    },
    {
      "cell_type": "code",
      "source": [
        "id(set4)"
      ],
      "metadata": {
        "id": "18-GPL5YmY0F"
      },
      "execution_count": null,
      "outputs": []
    },
    {
      "cell_type": "code",
      "source": [
        "id(set5)"
      ],
      "metadata": {
        "id": "fq-ZJPDsma57"
      },
      "execution_count": null,
      "outputs": []
    },
    {
      "cell_type": "code",
      "source": [
        "set3"
      ],
      "metadata": {
        "id": "ZT9eXSN0mc3z"
      },
      "execution_count": null,
      "outputs": []
    },
    {
      "cell_type": "code",
      "source": [
        "set4"
      ],
      "metadata": {
        "id": "dVWZAed7mpHB"
      },
      "execution_count": null,
      "outputs": []
    },
    {
      "cell_type": "code",
      "source": [
        "z=set3.difference(set4)"
      ],
      "metadata": {
        "id": "uZJ_0sswmpy7"
      },
      "execution_count": null,
      "outputs": []
    },
    {
      "cell_type": "code",
      "source": [
        "z"
      ],
      "metadata": {
        "id": "Y-UY-sNZm3qh"
      },
      "execution_count": null,
      "outputs": []
    },
    {
      "cell_type": "code",
      "source": [
        "y=set4.difference(set3)"
      ],
      "metadata": {
        "id": "rimDdgclm4aK"
      },
      "execution_count": null,
      "outputs": []
    },
    {
      "cell_type": "code",
      "source": [
        "y."
      ],
      "metadata": {
        "id": "8SDLriNLnO4T"
      },
      "execution_count": null,
      "outputs": []
    },
    {
      "cell_type": "code",
      "source": [
        "set3"
      ],
      "metadata": {
        "id": "viwLA_ZjnZIu"
      },
      "execution_count": null,
      "outputs": []
    },
    {
      "cell_type": "code",
      "source": [
        "set4"
      ],
      "metadata": {
        "id": "961fucX6naco"
      },
      "execution_count": null,
      "outputs": []
    },
    {
      "cell_type": "code",
      "source": [
        "set3.difference_update(set4)"
      ],
      "metadata": {
        "id": "TV6k_n46nbJQ"
      },
      "execution_count": null,
      "outputs": []
    },
    {
      "cell_type": "code",
      "source": [
        "set3"
      ],
      "metadata": {
        "id": "4cx3vvFEni9Y"
      },
      "execution_count": null,
      "outputs": []
    },
    {
      "cell_type": "code",
      "source": [
        "set4."
      ],
      "metadata": {
        "id": "y573-jwBnplD"
      },
      "execution_count": null,
      "outputs": []
    },
    {
      "cell_type": "code",
      "source": [
        "?set4.discard"
      ],
      "metadata": {
        "id": "KHjNP6ZJn0ob"
      },
      "execution_count": null,
      "outputs": []
    },
    {
      "cell_type": "code",
      "source": [
        "set4.discard(1) #it must be element otherwise no error"
      ],
      "metadata": {
        "id": "hZXOK6L-n6Oo"
      },
      "execution_count": null,
      "outputs": []
    },
    {
      "cell_type": "code",
      "source": [
        "set4"
      ],
      "metadata": {
        "id": "TFWa_YKuoAWO"
      },
      "execution_count": null,
      "outputs": []
    },
    {
      "cell_type": "code",
      "source": [
        "set3"
      ],
      "metadata": {
        "id": "jXL5y-cmoBPF"
      },
      "execution_count": null,
      "outputs": []
    },
    {
      "cell_type": "code",
      "source": [
        "set6"
      ],
      "metadata": {
        "id": "klPm5rYzowgF"
      },
      "execution_count": null,
      "outputs": []
    },
    {
      "cell_type": "code",
      "source": [
        "set6= set3.intersection(set4)#it creates new set fetching matching items"
      ],
      "metadata": {
        "id": "lDntNvivoLrM"
      },
      "execution_count": null,
      "outputs": []
    },
    {
      "cell_type": "code",
      "source": [
        "set4.update"
      ],
      "metadata": {
        "id": "rktkreyAoKct"
      },
      "execution_count": null,
      "outputs": []
    },
    {
      "cell_type": "code",
      "source": [
        "set4.intersection_update(set3)#it remove the itmes is not present in both sets it is updated original set"
      ],
      "metadata": {
        "id": "puJiTkxBpQAO"
      },
      "execution_count": null,
      "outputs": []
    },
    {
      "cell_type": "code",
      "source": [
        "set7={\"1\",\"5\"}"
      ],
      "metadata": {
        "id": "34uGJ096pVXO"
      },
      "execution_count": null,
      "outputs": []
    },
    {
      "cell_type": "code",
      "source": [
        "?set4.isdisjoint"
      ],
      "metadata": {
        "id": "2tMaCZPGpWC-"
      },
      "execution_count": null,
      "outputs": []
    },
    {
      "cell_type": "code",
      "source": [
        "#isdisjoint\n",
        "set3.isdisjoint(set7)"
      ],
      "metadata": {
        "id": "ubxiFdJ7qA9v"
      },
      "execution_count": null,
      "outputs": []
    },
    {
      "cell_type": "code",
      "source": [
        "set3"
      ],
      "metadata": {
        "id": "jr_EfHKmqU4K"
      },
      "execution_count": null,
      "outputs": []
    },
    {
      "cell_type": "code",
      "source": [
        "set4."
      ],
      "metadata": {
        "id": "fVROzpgnrDnV"
      },
      "execution_count": null,
      "outputs": []
    },
    {
      "cell_type": "code",
      "source": [
        "z=set4.issubset(set3)#bollean output true or false"
      ],
      "metadata": {
        "id": "MCc0cOhPrE0G"
      },
      "execution_count": null,
      "outputs": []
    },
    {
      "cell_type": "code",
      "source": [
        "z"
      ],
      "metadata": {
        "id": "U7kvCVyerMTH"
      },
      "execution_count": null,
      "outputs": []
    },
    {
      "cell_type": "code",
      "source": [
        "set3.issuperset(set4)#bollean output true or false"
      ],
      "metadata": {
        "id": "QqpFAxxYrNMN"
      },
      "execution_count": null,
      "outputs": []
    },
    {
      "cell_type": "code",
      "source": [
        "set4.pop()#remove item from left to right"
      ],
      "metadata": {
        "id": "e3OmqdSDroVc"
      },
      "execution_count": null,
      "outputs": []
    },
    {
      "cell_type": "code",
      "source": [
        "set4."
      ],
      "metadata": {
        "id": "Mp944GDQrqoF"
      },
      "execution_count": null,
      "outputs": []
    },
    {
      "cell_type": "code",
      "source": [
        "set4.remove(7)#remove specific element must be elemnt otherwise error"
      ],
      "metadata": {
        "id": "-EiLp2Rhr4lX"
      },
      "execution_count": null,
      "outputs": []
    },
    {
      "cell_type": "code",
      "source": [
        "set4"
      ],
      "metadata": {
        "id": "ThMTeE1_sA2B"
      },
      "execution_count": null,
      "outputs": []
    },
    {
      "cell_type": "code",
      "source": [
        "#union"
      ],
      "metadata": {
        "id": "rq3_cYW5sB7P"
      },
      "execution_count": null,
      "outputs": []
    },
    {
      "cell_type": "code",
      "source": [
        "set3"
      ],
      "metadata": {
        "id": "zsjvL6ovtQ8H"
      },
      "execution_count": null,
      "outputs": []
    },
    {
      "cell_type": "code",
      "source": [
        "set4"
      ],
      "metadata": {
        "id": "VItNHG3ZtRyh"
      },
      "execution_count": null,
      "outputs": []
    },
    {
      "cell_type": "code",
      "source": [
        "t=set3.union(set4)"
      ],
      "metadata": {
        "id": "a0gz9TlOtShh"
      },
      "execution_count": null,
      "outputs": []
    },
    {
      "cell_type": "code",
      "source": [
        "?t.symmetric_difference"
      ],
      "metadata": {
        "id": "GjRHZUvbtYgl"
      },
      "execution_count": null,
      "outputs": []
    },
    {
      "cell_type": "code",
      "source": [
        "u=set3.symmetric_difference(set4)#here it will create new set which remove both set common item"
      ],
      "metadata": {
        "id": "fbZbNUfCtZJz"
      },
      "execution_count": null,
      "outputs": []
    },
    {
      "cell_type": "code",
      "source": [
        "u"
      ],
      "metadata": {
        "id": "PjWW5QoqtpwN"
      },
      "execution_count": null,
      "outputs": []
    },
    {
      "cell_type": "code",
      "source": [
        "set3.symmetric_difference_update(set4)#here it will update original set which remove both set common item"
      ],
      "metadata": {
        "id": "d7WEe9jstqhl"
      },
      "execution_count": null,
      "outputs": []
    },
    {
      "cell_type": "code",
      "source": [
        "set3"
      ],
      "metadata": {
        "id": "zLaOhONauDuU"
      },
      "execution_count": null,
      "outputs": []
    },
    {
      "cell_type": "code",
      "source": [
        "#updation\n",
        "set3.update(set4)"
      ],
      "metadata": {
        "id": "_5NJAwT6uEdn"
      },
      "execution_count": null,
      "outputs": []
    },
    {
      "cell_type": "code",
      "source": [
        "set3={1,2,3,5,8,9}"
      ],
      "metadata": {
        "id": "wBRRG-SGu_Qj"
      },
      "execution_count": null,
      "outputs": []
    },
    {
      "cell_type": "code",
      "source": [
        "set3"
      ],
      "metadata": {
        "id": "hr9LyQwevAcY"
      },
      "execution_count": null,
      "outputs": []
    },
    {
      "cell_type": "code",
      "source": [
        "#index\n",
        "set3"
      ],
      "metadata": {
        "id": "4ptlQQYKvB9S"
      },
      "execution_count": null,
      "outputs": []
    },
    {
      "cell_type": "code",
      "source": [
        "set3[3]=\"7\""
      ],
      "metadata": {
        "id": "k8Uvl2c5vYAd"
      },
      "execution_count": null,
      "outputs": []
    },
    {
      "cell_type": "code",
      "source": [
        "#frozenset ----------->immuatable\n",
        "#Syntax: frozenset([Iterable])"
      ],
      "metadata": {
        "id": "IW6wcv4yvcch"
      },
      "execution_count": null,
      "outputs": []
    },
    {
      "cell_type": "code",
      "source": [
        "set3"
      ],
      "metadata": {
        "id": "bl4cluNYwr5f"
      },
      "execution_count": null,
      "outputs": []
    },
    {
      "cell_type": "code",
      "source": [
        "q=frozenset(set3)"
      ],
      "metadata": {
        "id": "W_1RJFHHwtSM"
      },
      "execution_count": null,
      "outputs": []
    },
    {
      "cell_type": "code",
      "source": [
        "type(q)"
      ],
      "metadata": {
        "id": "niSany5rwx9m"
      },
      "execution_count": null,
      "outputs": []
    },
    {
      "cell_type": "code",
      "source": [
        "q"
      ],
      "metadata": {
        "id": "I_CA7-5cxigu"
      },
      "execution_count": null,
      "outputs": []
    },
    {
      "cell_type": "code",
      "source": [
        "set4={1,2,43,44,6,7,9}"
      ],
      "metadata": {
        "id": "Cvu38xWQw2ma"
      },
      "execution_count": null,
      "outputs": []
    },
    {
      "cell_type": "code",
      "source": [
        "set3"
      ],
      "metadata": {
        "id": "tifiVSPTF62v"
      },
      "execution_count": null,
      "outputs": []
    },
    {
      "cell_type": "code",
      "source": [
        "set4"
      ],
      "metadata": {
        "id": "sO6_pgprF-kO"
      },
      "execution_count": null,
      "outputs": []
    },
    {
      "cell_type": "code",
      "source": [
        "r=frozenset(set4)"
      ],
      "metadata": {
        "id": "y4WOiCFNGUu9"
      },
      "execution_count": null,
      "outputs": []
    },
    {
      "cell_type": "code",
      "source": [
        "set5=q.copy()"
      ],
      "metadata": {
        "id": "4yfsepycGkB-"
      },
      "execution_count": null,
      "outputs": []
    },
    {
      "cell_type": "code",
      "source": [
        "set5\n"
      ],
      "metadata": {
        "id": "R456qSBWGkJ_"
      },
      "execution_count": null,
      "outputs": []
    },
    {
      "cell_type": "code",
      "source": [
        "z=q.difference(r)"
      ],
      "metadata": {
        "id": "6zck1kBkGkW9"
      },
      "execution_count": null,
      "outputs": []
    },
    {
      "cell_type": "code",
      "source": [
        "z"
      ],
      "metadata": {
        "id": "y4sSGUKPG0U3"
      },
      "execution_count": null,
      "outputs": []
    },
    {
      "cell_type": "code",
      "source": [
        "set6=q.intersection(r)"
      ],
      "metadata": {
        "id": "LeHWyqggG2Um"
      },
      "execution_count": null,
      "outputs": []
    },
    {
      "cell_type": "code",
      "source": [
        "set6"
      ],
      "metadata": {
        "id": "9tn7u_ZOG2cG"
      },
      "execution_count": null,
      "outputs": []
    },
    {
      "cell_type": "code",
      "source": [
        "q.issuperset(r)"
      ],
      "metadata": {
        "id": "fo1K7YizG2lX"
      },
      "execution_count": null,
      "outputs": []
    },
    {
      "cell_type": "code",
      "source": [
        "q.issubset(r)"
      ],
      "metadata": {
        "id": "hF0Fg4kBHADa"
      },
      "execution_count": null,
      "outputs": []
    },
    {
      "cell_type": "code",
      "source": [
        "set7=q.union(r)"
      ],
      "metadata": {
        "id": "YSk_7HFcHAQb"
      },
      "execution_count": null,
      "outputs": []
    },
    {
      "cell_type": "code",
      "source": [
        "set7"
      ],
      "metadata": {
        "id": "7Epmqr1iG2xv"
      },
      "execution_count": null,
      "outputs": []
    },
    {
      "cell_type": "code",
      "source": [
        "q.isdisjoint(r)"
      ],
      "metadata": {
        "id": "LiDJtIH9HUAO"
      },
      "execution_count": null,
      "outputs": []
    },
    {
      "cell_type": "code",
      "source": [
        "y=q.symmetric_difference(r)"
      ],
      "metadata": {
        "id": "Wl2mGpJBHUFu"
      },
      "execution_count": null,
      "outputs": []
    },
    {
      "cell_type": "code",
      "source": [
        "y"
      ],
      "metadata": {
        "id": "rkYkceYpHUQf"
      },
      "execution_count": null,
      "outputs": []
    },
    {
      "cell_type": "markdown",
      "source": [],
      "metadata": {
        "id": "kv2MK2X-1NT5"
      }
    },
    {
      "cell_type": "code",
      "source": [
        "dict1={\"1\":1,\"2\":2}"
      ],
      "metadata": {
        "id": "fd_gaD1zxHb8"
      },
      "execution_count": null,
      "outputs": []
    },
    {
      "cell_type": "code",
      "source": [
        "#copy, difference, intersection, symetric_difference, union, issuperset, issubset, isdisjoint"
      ],
      "metadata": {
        "id": "CUfsHOuvxWxh"
      },
      "execution_count": null,
      "outputs": []
    },
    {
      "cell_type": "code",
      "source": [
        "frozenset(dict1)"
      ],
      "metadata": {
        "id": "lLmTJposxUGl"
      },
      "execution_count": null,
      "outputs": []
    },
    {
      "cell_type": "code",
      "source": [
        "t1=(1,3,2,1,4,5)"
      ],
      "metadata": {
        "id": "-PGFryoK1Ni6"
      },
      "execution_count": null,
      "outputs": []
    },
    {
      "cell_type": "code",
      "source": [
        "sorted(t1, reverse=True)"
      ],
      "metadata": {
        "id": "N1Ei8Ply1YmM"
      },
      "execution_count": null,
      "outputs": []
    },
    {
      "cell_type": "code",
      "source": [
        "#sort is a method (list, string) it will chnage origial datatype\n",
        "#sorted is function() it is cerated new data type"
      ],
      "metadata": {
        "id": "_Tia_u_r1fbs"
      },
      "execution_count": null,
      "outputs": []
    },
    {
      "cell_type": "code",
      "source": [
        "#built in function\n",
        "#1. all"
      ],
      "metadata": {
        "id": "qQXG9Hj32DIw"
      },
      "execution_count": null,
      "outputs": []
    },
    {
      "cell_type": "code",
      "source": [
        "?all"
      ],
      "metadata": {
        "id": "ccH9jRTy2H7p"
      },
      "execution_count": null,
      "outputs": []
    },
    {
      "cell_type": "code",
      "source": [
        "all(t1)"
      ],
      "metadata": {
        "id": "9PHCQpxX2QFT"
      },
      "execution_count": null,
      "outputs": []
    },
    {
      "cell_type": "code",
      "source": [
        "all([ ])"
      ],
      "metadata": {
        "id": "Hg1THo7a2JeL"
      },
      "execution_count": null,
      "outputs": []
    },
    {
      "cell_type": "code",
      "source": [
        "all([True,False])"
      ],
      "metadata": {
        "id": "k9ZN_OiA2Tmt"
      },
      "execution_count": null,
      "outputs": []
    },
    {
      "cell_type": "code",
      "source": [
        "divmod(4,2)#otput is (floor division, quetint)"
      ],
      "metadata": {
        "id": "3fU5GU4n3OKO"
      },
      "execution_count": null,
      "outputs": []
    },
    {
      "cell_type": "code",
      "source": [
        "any([True,False])"
      ],
      "metadata": {
        "id": "zRL6O3xN2roT"
      },
      "execution_count": null,
      "outputs": []
    },
    {
      "cell_type": "code",
      "source": [
        "any([False,False])"
      ],
      "metadata": {
        "id": "sHIDdN8P2yyA"
      },
      "execution_count": null,
      "outputs": []
    },
    {
      "cell_type": "code",
      "source": [
        "all([1,0])"
      ],
      "metadata": {
        "id": "5HJNXNAO2mZM"
      },
      "execution_count": null,
      "outputs": []
    },
    {
      "cell_type": "code",
      "source": [
        "round(1.2)"
      ],
      "metadata": {
        "id": "fhC7KgOr3zYo"
      },
      "execution_count": null,
      "outputs": []
    },
    {
      "cell_type": "code",
      "source": [
        "round(1.6)"
      ],
      "metadata": {
        "id": "PkVLzFjQ324j"
      },
      "execution_count": null,
      "outputs": []
    },
    {
      "cell_type": "code",
      "source": [
        "#operators\n",
        "1. arithemetic\n",
        "+,-,*,/,%,//,**"
      ],
      "metadata": {
        "id": "VpgIGuTX48Ae"
      },
      "execution_count": null,
      "outputs": []
    },
    {
      "cell_type": "code",
      "source": [
        "1+2"
      ],
      "metadata": {
        "id": "wlq09ZQb5ENm"
      },
      "execution_count": null,
      "outputs": []
    },
    {
      "cell_type": "code",
      "source": [
        "\"q\"+\"2\""
      ],
      "metadata": {
        "id": "3990U4G_5JQn"
      },
      "execution_count": null,
      "outputs": []
    },
    {
      "cell_type": "code",
      "source": [
        "\"w\"+1"
      ],
      "metadata": {
        "id": "Xkc_AgU_5Ofv"
      },
      "execution_count": null,
      "outputs": []
    },
    {
      "cell_type": "code",
      "source": [
        "int+float=float\n",
        "complex+complex=complex\n",
        "comple+float=complex\n",
        "int+complex=complex\n",
        "int+boolean=int\n",
        "boolean+boolean=int\n",
        "str+str=str\n",
        "int+int=int\n",
        "list+list=list\n",
        "tple+tple=tuple\n",
        "set+set (we cant add)"
      ],
      "metadata": {
        "id": "GCZFk8_S5STF"
      },
      "execution_count": null,
      "outputs": []
    },
    {
      "cell_type": "code",
      "source": [
        "{1,2}+{1,2}"
      ],
      "metadata": {
        "id": "P2y_dfy-6C62"
      },
      "execution_count": null,
      "outputs": []
    },
    {
      "cell_type": "code",
      "source": [
        "True+False"
      ],
      "metadata": {
        "id": "MdfCid805osX"
      },
      "execution_count": null,
      "outputs": []
    },
    {
      "cell_type": "code",
      "source": [
        "2+True"
      ],
      "metadata": {
        "id": "a__IsCcn5eD4"
      },
      "execution_count": null,
      "outputs": []
    },
    {
      "cell_type": "code",
      "source": [
        "[\"s\"]+[\"e\"]"
      ],
      "metadata": {
        "id": "0vYgtVgN5zv0"
      },
      "execution_count": null,
      "outputs": []
    },
    {
      "cell_type": "code",
      "source": [
        "[\"s\"]+(\"e\")"
      ],
      "metadata": {
        "id": "QCFpAuNr6MOL"
      },
      "execution_count": null,
      "outputs": []
    },
    {
      "cell_type": "code",
      "source": [
        "(1,)+(2,)"
      ],
      "metadata": {
        "id": "ppqiPejz6Rx6"
      },
      "execution_count": null,
      "outputs": []
    },
    {
      "cell_type": "code",
      "source": [
        "{1:1}+{2:2}"
      ],
      "metadata": {
        "id": "DzbZpYS06WQR"
      },
      "execution_count": null,
      "outputs": []
    },
    {
      "cell_type": "code",
      "source": [
        "2+2j+1+1j"
      ],
      "metadata": {
        "id": "aL_lF4Mr6bXa"
      },
      "execution_count": null,
      "outputs": []
    },
    {
      "cell_type": "code",
      "source": [
        "1+1j+\"w\""
      ],
      "metadata": {
        "id": "cMn3hT5F6-ef"
      },
      "execution_count": null,
      "outputs": []
    },
    {
      "cell_type": "code",
      "source": [
        "a=30\n",
        "b=20"
      ],
      "metadata": {
        "id": "1MON7AG17GNi"
      },
      "execution_count": null,
      "outputs": []
    },
    {
      "cell_type": "code",
      "source": [
        "a-b"
      ],
      "metadata": {
        "id": "t5N9k9de7TjK"
      },
      "execution_count": null,
      "outputs": []
    },
    {
      "cell_type": "code",
      "source": [
        "list-list"
      ],
      "metadata": {
        "id": "qCzu3oDC7VBY"
      },
      "execution_count": null,
      "outputs": []
    },
    {
      "cell_type": "code",
      "source": [
        "[1,2]-[1,2]"
      ],
      "metadata": {
        "id": "uKvF0Dcb7av9"
      },
      "execution_count": null,
      "outputs": []
    },
    {
      "cell_type": "code",
      "source": [
        "True-False"
      ],
      "metadata": {
        "id": "YVWoLlFK7djT"
      },
      "execution_count": null,
      "outputs": []
    },
    {
      "cell_type": "code",
      "source": [
        "#* multiplication\n"
      ],
      "metadata": {
        "id": "P2E55nAj7naX"
      },
      "execution_count": null,
      "outputs": []
    },
    {
      "cell_type": "code",
      "source": [
        "a*b"
      ],
      "metadata": {
        "id": "StMKp5767tzD"
      },
      "execution_count": null,
      "outputs": []
    },
    {
      "cell_type": "code",
      "source": [
        "int*int\n",
        "str*str(not)\n",
        "float*float\n",
        "boolean*boolean\n",
        "str*int\n",
        "str*float\n"
      ],
      "metadata": {
        "id": "ElPexw9f7vAB"
      },
      "execution_count": null,
      "outputs": []
    },
    {
      "cell_type": "code",
      "source": [
        "(2+2j)*(2+2j)# j^2=-1"
      ],
      "metadata": {
        "id": "ZlrWM7cJ8Q7S"
      },
      "execution_count": null,
      "outputs": []
    },
    {
      "cell_type": "code",
      "source": [
        "\"ganesh\"*6"
      ],
      "metadata": {
        "id": "_fyYLldu7-2k"
      },
      "execution_count": null,
      "outputs": []
    },
    {
      "cell_type": "code",
      "source": [
        "True*True"
      ],
      "metadata": {
        "id": "OAT76YjC8BKy"
      },
      "execution_count": null,
      "outputs": []
    },
    {
      "cell_type": "code",
      "source": [
        "\"ganesh\"*6.2"
      ],
      "metadata": {
        "id": "7PNVRAIg8H5Y"
      },
      "execution_count": null,
      "outputs": []
    },
    {
      "cell_type": "code",
      "source": [
        "list*list"
      ],
      "metadata": {
        "id": "IiIojjTj8ptg"
      },
      "execution_count": null,
      "outputs": []
    },
    {
      "cell_type": "code",
      "source": [
        "[1,2,3]*[1,2,3]"
      ],
      "metadata": {
        "id": "nSnondnE8uK8"
      },
      "execution_count": null,
      "outputs": []
    },
    {
      "cell_type": "code",
      "source": [
        "list*int"
      ],
      "metadata": {
        "id": "m8cVBU7w86xG"
      },
      "execution_count": null,
      "outputs": []
    },
    {
      "cell_type": "code",
      "source": [
        "list*complex"
      ],
      "metadata": {
        "id": "n8Nj3TVX89yW"
      },
      "execution_count": null,
      "outputs": []
    },
    {
      "cell_type": "code",
      "source": [
        "[1,2,3]*(2+2j)"
      ],
      "metadata": {
        "id": "STgP0YI_9BEs"
      },
      "execution_count": null,
      "outputs": []
    },
    {
      "cell_type": "code",
      "source": [
        "/,%,//\n"
      ],
      "metadata": {
        "id": "CjQJhqN99Dv7"
      },
      "execution_count": null,
      "outputs": []
    },
    {
      "cell_type": "code",
      "source": [
        "int**int"
      ],
      "metadata": {
        "id": "efSSMG1Y9TZs"
      },
      "execution_count": null,
      "outputs": []
    },
    {
      "cell_type": "code",
      "source": [
        "complex**complex"
      ],
      "metadata": {
        "id": "Iu4JXQ1P9WMX"
      },
      "execution_count": null,
      "outputs": []
    },
    {
      "cell_type": "code",
      "source": [
        "(2+2j)**(2+2j)"
      ],
      "metadata": {
        "id": "8ICmMa_f9Ytt"
      },
      "execution_count": null,
      "outputs": []
    },
    {
      "cell_type": "code",
      "source": [
        "(2+2j)/(2+2j)"
      ],
      "metadata": {
        "id": "9_izHEFq9b20"
      },
      "execution_count": null,
      "outputs": []
    },
    {
      "cell_type": "code",
      "source": [
        "(2+2j)%(2+2j)"
      ],
      "metadata": {
        "id": "j98zThtj9g6O"
      },
      "execution_count": null,
      "outputs": []
    },
    {
      "cell_type": "code",
      "source": [
        "#relational conditional\n",
        "==,>,<,!=,>=,<="
      ],
      "metadata": {
        "id": "X21uf6kW9jey"
      },
      "execution_count": null,
      "outputs": []
    },
    {
      "cell_type": "code",
      "source": [
        "a"
      ],
      "metadata": {
        "id": "wHzX_cCl99nZ"
      },
      "execution_count": null,
      "outputs": []
    },
    {
      "cell_type": "code",
      "source": [
        "b"
      ],
      "metadata": {
        "id": "WvW6LtPP-A1G"
      },
      "execution_count": null,
      "outputs": []
    },
    {
      "cell_type": "code",
      "source": [
        "a==b"
      ],
      "metadata": {
        "id": "IFTsAHWY-BOz"
      },
      "execution_count": null,
      "outputs": []
    },
    {
      "cell_type": "code",
      "source": [
        "a>b"
      ],
      "metadata": {
        "id": "Y1azgemy-DPl"
      },
      "execution_count": null,
      "outputs": []
    },
    {
      "cell_type": "code",
      "source": [
        "a<b"
      ],
      "metadata": {
        "id": "EMTpQVJ2-Gsv"
      },
      "execution_count": null,
      "outputs": []
    },
    {
      "cell_type": "code",
      "source": [
        "a!=b"
      ],
      "metadata": {
        "id": "v3kNWvgD-IGy"
      },
      "execution_count": null,
      "outputs": []
    },
    {
      "cell_type": "code",
      "source": [
        "a<=b"
      ],
      "metadata": {
        "id": "ML5L9UVj-KLN"
      },
      "execution_count": null,
      "outputs": []
    },
    {
      "cell_type": "code",
      "source": [
        "a>=b"
      ],
      "metadata": {
        "id": "tj7NlxVt-MjO"
      },
      "execution_count": null,
      "outputs": []
    },
    {
      "cell_type": "code",
      "source": [
        "a,b=30,30"
      ],
      "metadata": {
        "id": "JVrnm2Do-Qcp"
      },
      "execution_count": null,
      "outputs": []
    },
    {
      "cell_type": "code",
      "source": [
        "a!=b"
      ],
      "metadata": {
        "id": "WTZdbuNu-Yg8"
      },
      "execution_count": null,
      "outputs": []
    },
    {
      "cell_type": "code",
      "source": [
        "#Assignment operotor"
      ],
      "metadata": {
        "id": "J__YHGt0-l-p"
      },
      "execution_count": null,
      "outputs": []
    },
    {
      "cell_type": "code",
      "source": [
        "a"
      ],
      "metadata": {
        "id": "nZu0BVLz-tiU"
      },
      "execution_count": null,
      "outputs": []
    },
    {
      "cell_type": "code",
      "source": [
        "c=a"
      ],
      "metadata": {
        "id": "8nAtV1Ud-uvb"
      },
      "execution_count": null,
      "outputs": []
    },
    {
      "cell_type": "code",
      "source": [
        "c"
      ],
      "metadata": {
        "id": "3fwkM0Mo-xpq"
      },
      "execution_count": null,
      "outputs": []
    },
    {
      "cell_type": "code",
      "source": [
        "a=a+1#a+=1"
      ],
      "metadata": {
        "id": "ch9Qow4j-zHr"
      },
      "execution_count": null,
      "outputs": []
    },
    {
      "cell_type": "code",
      "source": [
        "a"
      ],
      "metadata": {
        "id": "bP6UtCBg-4Os"
      },
      "execution_count": null,
      "outputs": []
    },
    {
      "cell_type": "code",
      "source": [
        "a+=1"
      ],
      "metadata": {
        "id": "Bbo4x05--488"
      },
      "execution_count": null,
      "outputs": []
    },
    {
      "cell_type": "code",
      "source": [
        "a"
      ],
      "metadata": {
        "id": "x9lOC9yv-94J"
      },
      "execution_count": null,
      "outputs": []
    },
    {
      "cell_type": "code",
      "source": [
        "a=a-1#a-=1"
      ],
      "metadata": {
        "id": "LPtdgreu--xQ"
      },
      "execution_count": null,
      "outputs": []
    },
    {
      "cell_type": "code",
      "source": [
        "a*=2"
      ],
      "metadata": {
        "id": "Toq1Bfox_A0P"
      },
      "execution_count": null,
      "outputs": []
    },
    {
      "cell_type": "code",
      "source": [
        "a/=30"
      ],
      "metadata": {
        "id": "XWyICPmX_SrQ"
      },
      "execution_count": null,
      "outputs": []
    },
    {
      "cell_type": "code",
      "source": [
        "a"
      ],
      "metadata": {
        "id": "OcB8XCuU_Uii"
      },
      "execution_count": null,
      "outputs": []
    },
    {
      "cell_type": "code",
      "source": [
        "a//=1"
      ],
      "metadata": {
        "id": "urTPi8CD_VQu"
      },
      "execution_count": null,
      "outputs": []
    },
    {
      "cell_type": "code",
      "source": [
        "a"
      ],
      "metadata": {
        "id": "sbaryLnj_Y6p"
      },
      "execution_count": null,
      "outputs": []
    },
    {
      "cell_type": "code",
      "source": [
        "a%=1"
      ],
      "metadata": {
        "id": "UR3VpdKW_Zss"
      },
      "execution_count": null,
      "outputs": []
    },
    {
      "cell_type": "code",
      "source": [
        "a"
      ],
      "metadata": {
        "id": "2pjQbCsl_cg5"
      },
      "execution_count": null,
      "outputs": []
    },
    {
      "cell_type": "code",
      "source": [
        "a**=2"
      ],
      "metadata": {
        "id": "lG7aK5Ho_dPn"
      },
      "execution_count": null,
      "outputs": []
    },
    {
      "cell_type": "markdown",
      "source": [
        "# Logicla opearotes are and, or, not"
      ],
      "metadata": {
        "id": "oCrUl6fKANly"
      }
    },
    {
      "cell_type": "code",
      "source": [
        "a=12\n",
        "b=2\n",
        "if a==12 and b==3:\n",
        "    print(\"hi\")\n",
        "else:\n",
        "    print(\"not matching with seven\")"
      ],
      "metadata": {
        "id": "fuAZDmQZ_ml4"
      },
      "execution_count": null,
      "outputs": []
    },
    {
      "cell_type": "code",
      "source": [
        "a=12\n",
        "b=2\n",
        "if a not b:\n",
        "    print(\"hi\")\n",
        "else:\n",
        "    print(\"not matching with seven\")"
      ],
      "metadata": {
        "id": "lyvokN1lBI_4"
      },
      "execution_count": null,
      "outputs": []
    },
    {
      "cell_type": "code",
      "source": [
        "a = 10\n",
        "\n",
        "if not a:\n",
        "\tprint(\"Boolean value of a is True\")\n",
        "else:\n",
        "\tprint(\"10 is divisible by either 3 or 5\")\n"
      ],
      "metadata": {
        "id": "K5396Xq7BxrT"
      },
      "execution_count": null,
      "outputs": []
    },
    {
      "cell_type": "code",
      "source": [],
      "metadata": {
        "id": "HiA6MFYzCBb2"
      },
      "execution_count": null,
      "outputs": []
    }
  ]
}